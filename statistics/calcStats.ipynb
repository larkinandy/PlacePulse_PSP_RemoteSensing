{
 "cells": [
  {
   "cell_type": "markdown",
   "metadata": {},
   "source": [
    "### calcSpatialImageStats.py ###\n",
    "Calculate Spatial Clustering Statistics for PSPNet category predictions <br>\n",
    "**Author** Andrew Larkin <br>\n",
    "**Affiliation** Oregon State University, Spatial Health Lab <br>\n",
    "**Date Last Modified** September 2nd, 2019 <br>"
   ]
  },
  {
   "cell_type": "markdown",
   "metadata": {},
   "source": [
    "### Import packages ###"
   ]
  },
  {
   "cell_type": "code",
   "execution_count": 1,
   "metadata": {},
   "outputs": [],
   "source": [
    "import os # for collecting file lists\n",
    "import numpy as np # PSPNet predictions are stored as a numpy array\n",
    "from PIL import Image # for image visualization/debugging\n",
    "from copy import deepcopy\n",
    "import pandas as ps # for saving as csv\n",
    "from scipy import ndimage, misc # for focal stats"
   ]
  },
  {
   "cell_type": "markdown",
   "metadata": {},
   "source": [
    "### define folders containing input image classifications and output statistic csvs ###"
   ]
  },
  {
   "cell_type": "code",
   "execution_count": 2,
   "metadata": {},
   "outputs": [],
   "source": [
    "parentFolder = \"C:/users/larkinan/Desktop/categorystats\"\n",
    "testFile = \"pZMx7YKWt0uPiKD99hgDgNA_180.npy\""
   ]
  },
  {
   "cell_type": "markdown",
   "metadata": {},
   "source": [
    "### Define groups or \"categories\" of image labels ###\n",
    "**Outputs**:  <br>\n",
    "&nbsp;&nbsp;&nbsp;&nbsp;**categoryDict** (Dict): dictionary, where each key corresponds to the string labels that belong to the category set"
   ]
  },
  {
   "cell_type": "code",
   "execution_count": 3,
   "metadata": {},
   "outputs": [],
   "source": [
    "def defineCategoryDicts():\n",
    "    categoryDict = {}\n",
    "    categoryDict['greenspace'] = ['tree','grass','plant','field','flower']\n",
    "    categoryDict['accessibility'] = ['sidewalk','escalator','path','stairs','stairway','bench','step']\n",
    "    categoryDict['allNature'] = ['tree','grass','plant','field','land','flower','water','sea','waterfall','lake','earth',\n",
    "                'mountain','rock','sky','sand','hill','dirt track']\n",
    "    categoryDict['bluespace'] = ['water','sea','waterfall','lake']\n",
    "    categoryDict['otherNature'] = ['earth','mountain','rock','sky','sand','hill','dirt track','land']\n",
    "    categoryDict['animate'] = ['person','boat','car','bus','truck','airplane','van','ship','minibike','animal','bicycle']\n",
    "    categoryDict['builtEnv'] = ['wall','building','road','windowpane','sidewalk','hovel','house','fence','railing',\n",
    "               'signboard','skyscraper','path','stairs','runway','screen', 'door', 'screen door','stairway',\n",
    "                'bridge','bench','booth','awning','streetlight','pole','bannister','escalator',\n",
    "               'fountain','swimming pool','step','sculpture','traffic light','pier','bulletin board']\n",
    "    return(categoryDict)"
   ]
  },
  {
   "cell_type": "markdown",
   "metadata": {},
   "source": [
    "### Get ordered set of PSPNet prediction labels ###\n",
    "**Outputs**:  <br>\n",
    "&nbsp;&nbsp;&nbsp;&nbsp;set of prediction labels, in the same order as PSPNet output numpy matrices"
   ]
  },
  {
   "cell_type": "code",
   "execution_count": null,
   "metadata": {},
   "outputs": [],
   "source": [
    "def getAllCategories():\n",
    "    return([\"wall\",\"building\",\"sky\",\"floor\",\"tree\",\"ceiling\",\"road\",\"bed\",\n",
    "              \"windowpane\",\"grass\",\"cabinet\",\"sidewalk\",\"person\",\"earth\",\n",
    "              \"door\",\"table\",\"mountain\",\"plant\",\"curtain\",\"chair\",\"car\",\n",
    "              \"water\",\"painting\",\"sofa\",\"shelf\",\"house\",\"sea\",\"mirror\",\n",
    "              \"rug\",\"field\",\"armchair\",\"seat\",\"fence\",\"desk\",\"rock\",\n",
    "              \"wardrobe\",\"lamp\",\"bathtub\",\"railing\",\"cushion\",\"base\",\n",
    "              \"box\",\"column\",\"signboard\",\"chest of drawers\",\"counter\",\n",
    "              \"sand\",\"sink\",\"skyscraper\",\"fireplace\",\"refrigerator\",\n",
    "              \"grandstand\",\"path\",\"stairs\",\"runway\",\"case\",\"pool table\",\n",
    "              \"pillow\",\"screen door\",\"stairway\",\"river\",\"bridge\",\"bookcase\",\n",
    "              \"blind\",\"coffee table\",\"toilet\",\"flower\",\"book\",\"hill\",\"bench\",\n",
    "              \"countertop\",\"stove\",\"palm\",\"kitchen island\",\"computer\",\"swivel chair\",\n",
    "              \"boat\",\"bar\",\"arcade machine\",\"hovel\",\"bus\",\"towel\",\"light\",\n",
    "              \"truck\",\"tower\",\"chandelier\",\"awning\",\"streetlight\",\"booth\",\n",
    "              \"television receiver\",\"airplane\",\"dirt track\",\"apparel\",\"pole\",\n",
    "              \"land\",\"bannister\",\"escalator\",\"ottoman\",\"bottle\",\"buffet\",\"poster\",\n",
    "              \"stage\",\"van\",\"ship\",\"fountain\",\"conveyer belt\",\"canopy\",\"washer\",\n",
    "              \"plaything\",\"swimming pool\",\"stool\",\"barrel\",\"basket\",\"waterfall\",\n",
    "              \"tent\",\"bag\",\"minibike\",\"cradle\",\"oven\",\"ball\",\"food\",\"step\",\"tank\",\n",
    "              \"trade name\",\"microwave\",\"pot\",\"animal\",\"bicycle\",\"lake\",\"dishwasher\",\n",
    "              \"screen\",\"blanket\",\"sculpture\",\"hood\",\"sconce\",\"vase\",\"traffic light\",\n",
    "              \"tray\",\"ashcan\",\"fan\",\"pier\",\"crt screen\",\"plate\",\"monitor\",\n",
    "              \"bulletin board\",\"shower\",\"radiator\",\"glass\",\"clock\",\"flag\"\n",
    "    ])"
   ]
  },
  {
   "cell_type": "markdown",
   "metadata": {},
   "source": [
    "### create a dictionary of category set indices in PSPNet output matrix ###\n",
    "\n",
    "**Inputs** <br>\n",
    "&nbsp;&nbsp;&nbsp;&nbsp;**inDict** (Dictionary) - contains category set string labels <br>\n",
    "&nbsp;&nbsp;&nbsp;&nbsp;**categories** (String Set) - set of PSPNet model predictions, in same order as in the prediction matrix <br>\n",
    "**Outputs** <br>\n",
    "&nbsp;&nbsp;&nbsp;&nbsp;**newDict** (Dictionary) - set of indices for each category <br>"
   ]
  },
  {
   "cell_type": "code",
   "execution_count": 4,
   "metadata": {},
   "outputs": [],
   "source": [
    "def addCateogryNumsToDict(inDict,categories):\n",
    "    keys = deepcopy(list(catDict.keys()))\n",
    "    keys.sort()\n",
    "    print(keys)\n",
    "    newDict = {}\n",
    "    for key in keys:\n",
    "        keyVals = catDict[key]\n",
    "        tempList = []\n",
    "        for val in keyVals:\n",
    "            tempList.append(categories.index(val))\n",
    "        newDict[key + \"_num\"] = tempList\n",
    "    return(newDict)"
   ]
  },
  {
   "cell_type": "markdown",
   "metadata": {},
   "source": [
    "### create binary numpy matrix from PSPNet matrix, indicating whether predictions belong to a single label or category of interest ###\n",
    "**Inputs** <br>\n",
    "&nbsp;&nbsp;&nbsp;&nbsp;**categoryNums** (Integer List) - values that should return true in the output binary matrix <br>\n",
    "&nbsp;&nbsp;&nbsp;&nbsp;**imgArray** (Numpy matrix) - input predictions that should be screened for categories of interest.  <br>\n",
    "**Outputs** <br>\n",
    "&nbsp;&nbsp;&nbsp;&nbsp; numpy matrix of true/false values, with same dimensions as input imgArray"
   ]
  },
  {
   "cell_type": "code",
   "execution_count": 6,
   "metadata": {},
   "outputs": [],
   "source": [
    "def createBinaryCategorical(categoryNums,imgArray):\n",
    "    return(np.isin(imgArray,categoryNums))"
   ]
  },
  {
   "cell_type": "markdown",
   "metadata": {},
   "source": [
    "### create header for output csv file containing spatial clustering statistics for each image ###\n",
    "**Inputs** <br>\n",
    "&nbsp;&nbsp;&nbsp;&nbsp;**catDict** (Dictionary) - list of all groups spatial statistics were dervied for <br>\n",
    "&nbsp;&nbsp;&nbsp;&nbsp;**statCategories** (String Set) - list of all dervied spatial statistics <br>\n",
    "**Outputs** <br>\n",
    "&nbsp;&nbsp;&nbsp;&nbsp;**header** (String) - the header (top line) for the output csv file(s)"
   ]
  },
  {
   "cell_type": "code",
   "execution_count": 7,
   "metadata": {},
   "outputs": [],
   "source": [
    "def createHeader(catDict,statCategories):\n",
    "    categories = list(catDict.keys())\n",
    "    categories.sort()\n",
    "    header = [\"filename\"]\n",
    "    subSep = \"_\"\n",
    "    for category in categories:\n",
    "        for subCat in statCategories:\n",
    "            header.append(category + subSep + subCat)\n",
    "        subGroups = catDict[category]\n",
    "        for subGroup in subGroups:\n",
    "            for subCat in statCategories:\n",
    "                header.append(subGroup + subSep + subCat)\n",
    "    return(header)"
   ]
  },
  {
   "cell_type": "markdown",
   "metadata": {},
   "source": [
    "### calculate spatial statistics for one label and one image ###\n",
    "**Inputs** <br>\n",
    "&nbsp;&nbsp;&nbsp;&nbsp;**imgArr** (numpy integer Array) - category predictions for each image pixel, in numpy matrix format <br> \n",
    "**Outputs** <br>\n",
    "&nbsp;&nbsp;&nbsp;&nbsp**results** (float array) - overall spatial statistics for the entire image <br>"
   ]
  },
  {
   "cell_type": "code",
   "execution_count": 8,
   "metadata": {},
   "outputs": [],
   "source": [
    "def calcStatsOneImageOneLabel(imgArr):\n",
    "    results = []\n",
    "    neighbImg = np.multiply(ndimage.uniform_filter(imgArr*1.0,2),imgArr*1.0)*100\n",
    "    results.append(np.sum(neighbImg)/np.sum(imgArr))\n",
    "    return(results)"
   ]
  },
  {
   "cell_type": "markdown",
   "metadata": {},
   "source": [
    "### perform image preprocessing and dervice summary statistics for one category, including individual labels within the cateegory ###\n",
    "**Inputs** <br>\n",
    "&nbsp;&nbsp;&nbsp;&nbsp;**numDict** (Dictionary) - set of integers that belong to each category <br>\n",
    "&nbsp;&nbsp;&nbsp;&nbsp;**catName** (String) - name of the numDict key that corresponds to the integer values for the category of interest <br>\n",
    "&nbsp;&nbsp;&nbsp;&nbsp;**results** (numpy float Matrix) - previously dervied statistics for images within the same batch.  Newly dervied statistics are appended to this <br>\n",
    "&nbsp;&nbsp;&nbsp;&nbsp;**img** (numpy integer array) - PSPNet model classifications for each image pixel <br>\n",
    "**Outputs** <br>\n",
    "&nbsp;&nbsp;&nbsp;&nbsp;**results** (numpy float matrix) - the input results matrix witht newly derived statistics appended to the end <br>"
   ]
  },
  {
   "cell_type": "code",
   "execution_count": 9,
   "metadata": {},
   "outputs": [],
   "source": [
    "def processSingleCategory(numDict,catName,results,img):\n",
    "    catBinary = createBinaryCategorical(numDict[catName],img)\n",
    "    numPixels = (img.shape[0]*img.shape[1]*4 - 2*(img.shape[0]+img.shape[1]))\n",
    "    catResults = np.asarray(calcStatsOneImageOneCat(catBinary))\n",
    "    if(results.shape[0] == 0):\n",
    "        results = catResults.reshape((catResults.shape[0],1))\n",
    "    else:\n",
    "        results = np.concatenate((results,catResults.reshape((catResults.shape[0],1))))\n",
    "    for subsetCat in numDict[catName]:\n",
    "        binarySubset = createBinaryCategorical([subsetCat],img)\n",
    "        numPixels = np.sum(binarySubset*1)\n",
    "        tempResults = None\n",
    "        if(numPixels > 0):\n",
    "            tempResults = np.asarray(calcStatsOneImageOneLabel(binarySubset))\n",
    "        else:\n",
    "            numOutcomes = 1\n",
    "            tempResults = fillArray = np.full((numOutcomes,1),np.nan)\n",
    "        results = np.concatenate((results,tempResults.reshape((tempResults.shape[0],1))))\n",
    "    return(results)"
   ]
  },
  {
   "cell_type": "markdown",
   "metadata": {},
   "source": [
    "### derive spatial statistics for one image ###\n",
    "**Inputs** <br>\n",
    "&nbsp;&nbsp;&nbsp;&nbsp;**imgFilepath** (String) - absolute filepath of image to process <br>\n",
    "&nbsp;&nbsp;&nbsp;&nbsp;**numDict** (Dictionary) - contains sets of integers sets for each category to process <br>\n",
    "&nbsp;&nbsp;&nbsp;&nbsp;**imgName** (Sting) - unique id for each image <br>\n",
    "**Outputs** <br>\n",
    "&nbsp;&nbsp;&nbsp;&nbsp;**results** (float array) - summary statistics for all categories of interest <br>"
   ]
  },
  {
   "cell_type": "code",
   "execution_count": 10,
   "metadata": {},
   "outputs": [],
   "source": [
    "def processSingleImage(imgFilepath,numDict,imgName):\n",
    "    img = np.load(imgFilepath)\n",
    "    results = np.asarray([imgName]).reshape((1,1))\n",
    "    categories = list(numDict.keys())\n",
    "    categories.sort()\n",
    "    for category in categories:\n",
    "        results = processSingleCategory(numDict,category,results,img)\n",
    "    return(results)"
   ]
  },
  {
   "cell_type": "markdown",
   "metadata": {},
   "source": [
    "### process all images within a given folder ###\n",
    "**Inputs** <br>\n",
    "&nbsp;&nbsp;&nbsp;&nbsp;**imageFolder** (String) - absoluste filepath to folder containing PSPNet image predictions <br>\n",
    "&nbsp;&nbsp;&nbsp;&nbsp;**numDict** (Dictionary) - set of integers that belong to each category <br>\n",
    "**Outputs**<br>\n",
    "&nbsp;&nbsp;&nbsp;&nbsp;**results** (float numpy array) - summary statistics for each images within the folder <br>"
   ]
  },
  {
   "cell_type": "code",
   "execution_count": 11,
   "metadata": {},
   "outputs": [],
   "source": [
    "def processAllImages(imageFolder,numDict,prevFiles):\n",
    "    candidateFiles = os.listdir(imageFolder)\n",
    "    filesToProcess = []\n",
    "    for candidate in candidateFiles:\n",
    "        if(candidate[len(candidate)-3:len(candidate)] == 'npy'):\n",
    "            filesToProcess.append(candidate)\n",
    "    results = np.asarray([])\n",
    "    for filename in filesToProcess:\n",
    "        print(filename)\n",
    "        filepath = imageFolder + \"/\" + filename\n",
    "        tempResults = processSingleImage(filepath,numDict,filename)\n",
    "        if(results.shape[0] ==0):\n",
    "            results = tempResults.reshape((tempResults.shape[0],1))\n",
    "        else:\n",
    "            results = np.concatenate((results,tempResults.reshape((tempResults.shape[0],1))),axis=1)\n",
    "    return(results)"
   ]
  },
  {
   "cell_type": "markdown",
   "metadata": {},
   "source": [
    "### main function ###"
   ]
  },
  {
   "cell_type": "code",
   "execution_count": 12,
   "metadata": {},
   "outputs": [
    {
     "name": "stdout",
     "output_type": "stream",
     "text": [
      "['accessibility', 'allNature', 'animate', 'bluespace', 'builtEnv', 'greenspace', 'otherNature']\n",
      "pZMx7YKWt0uPiKD99hgDgNA_180.npy\n"
     ]
    },
    {
     "name": "stderr",
     "output_type": "stream",
     "text": [
      "C:\\Users\\larkinan\\Anaconda2\\lib\\site-packages\\ipykernel_launcher.py:4: RuntimeWarning: invalid value encountered in double_scalars\n",
      "  after removing the cwd from sys.path.\n"
     ]
    },
    {
     "name": "stdout",
     "output_type": "stream",
     "text": [
      "testFile.npy\n"
     ]
    }
   ],
   "source": [
    "#unique_elements, counts_elements = np.unique(testData, return_counts=True)\n",
    "catDict = defineCategoryDicts()\n",
    "numDict = addCateogryNumsToDict(catDict,getAllCategories())\n",
    "statCategories = ['ratio']\n",
    "createHeader(catDict,statCategories)\n",
    "results = processAllImages(parentFolder,numDict)"
   ]
  },
  {
   "cell_type": "code",
   "execution_count": 14,
   "metadata": {},
   "outputs": [
    {
     "name": "stdout",
     "output_type": "stream",
     "text": [
      "['filename', 'accessibility_ratio', 'sidewalk_ratio', 'escalator_ratio', 'path_ratio', 'stairs_ratio', 'stairway_ratio', 'bench_ratio', 'step_ratio', 'allNature_ratio', 'tree_ratio', 'grass_ratio', 'plant_ratio', 'field_ratio', 'land_ratio', 'flower_ratio', 'water_ratio', 'sea_ratio', 'waterfall_ratio', 'lake_ratio', 'earth_ratio', 'mountain_ratio', 'rock_ratio', 'sky_ratio', 'sand_ratio', 'hill_ratio', 'dirt track_ratio', 'animate_ratio', 'person_ratio', 'boat_ratio', 'car_ratio', 'bus_ratio', 'truck_ratio', 'airplane_ratio', 'van_ratio', 'ship_ratio', 'minibike_ratio', 'animal_ratio', 'bicycle_ratio', 'bluespace_ratio', 'water_ratio', 'sea_ratio', 'waterfall_ratio', 'lake_ratio', 'builtEnv_ratio', 'wall_ratio', 'building_ratio', 'road_ratio', 'windowpane_ratio', 'sidewalk_ratio', 'hovel_ratio', 'house_ratio', 'fence_ratio', 'railing_ratio', 'signboard_ratio', 'skyscraper_ratio', 'path_ratio', 'stairs_ratio', 'runway_ratio', 'screen_ratio', 'door_ratio', 'screen door_ratio', 'stairway_ratio', 'bridge_ratio', 'bench_ratio', 'booth_ratio', 'awning_ratio', 'streetlight_ratio', 'pole_ratio', 'bannister_ratio', 'escalator_ratio', 'fountain_ratio', 'swimming pool_ratio', 'step_ratio', 'sculpture_ratio', 'traffic light_ratio', 'pier_ratio', 'bulletin board_ratio', 'greenspace_ratio', 'tree_ratio', 'grass_ratio', 'plant_ratio', 'field_ratio', 'flower_ratio', 'otherNature_ratio', 'earth_ratio', 'mountain_ratio', 'rock_ratio', 'sky_ratio', 'sand_ratio', 'hill_ratio', 'dirt track_ratio', 'land_ratio']\n",
      "                                0                  1                  2    3   \\\n",
      "0  pZMx7YKWt0uPiKD99hgDgNA_180.npy  96.21043998456194  96.21043998456194  nan   \n",
      "1                     testFile.npy  96.21043998456194  96.21043998456194  nan   \n",
      "\n",
      "    4    5    6    7    8                  9   ...   83                 84  \\\n",
      "0  nan  nan  nan  nan  nan  99.83122620485737  ...  nan  99.80596035481535   \n",
      "1  nan  nan  nan  nan  nan  99.83122620485737  ...  nan  99.80596035481535   \n",
      "\n",
      "                  85   86   87                 88   89   90   91   92  \n",
      "0  98.60399456237582  nan  nan  99.98303303632025  nan  nan  nan  nan  \n",
      "1  98.60399456237582  nan  nan  99.98303303632025  nan  nan  nan  nan  \n",
      "\n",
      "[2 rows x 93 columns]\n"
     ]
    }
   ],
   "source": [
    "header = createHeader(catDict,statCategories)\n",
    "print(header)\n",
    "testDataframe = ps.DataFrame(results.transpose())\n",
    "print(testDataframe)\n",
    "testDataframe.head()\n",
    "testDataframe.columns = header\n",
    "testDataframe.to_csv(parentFolder + \"/spatial_clustering_results.csv\")"
   ]
  }
 ],
 "metadata": {
  "kernelspec": {
   "display_name": "Python 3",
   "language": "python",
   "name": "python3"
  },
  "language_info": {
   "codemirror_mode": {
    "name": "ipython",
    "version": 3
   },
   "file_extension": ".py",
   "mimetype": "text/x-python",
   "name": "python",
   "nbconvert_exporter": "python",
   "pygments_lexer": "ipython3",
   "version": "3.6.10"
  }
 },
 "nbformat": 4,
 "nbformat_minor": 2
}
