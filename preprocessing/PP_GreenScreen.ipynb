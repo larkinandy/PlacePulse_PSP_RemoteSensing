{
 "cells": [
  {
   "cell_type": "markdown",
   "metadata": {},
   "source": [
    "# Calculate green screen statistics from .npy and .jpg files #\n",
    "**Author** Andrew Larkin <br>\n",
    "**Date Created** June 22, 2020 <br>\n",
    "**Summary** - Calculate joint count and percent nature green statistics for all images in the place pulse dataset.  Calculating statistics involving first calculating statistics for green scree and PSPNet seperately, and then deriving statistics on the intersection  of the screens"
   ]
  },
  {
   "cell_type": "markdown",
   "metadata": {},
   "source": [
    "### import modules ###"
   ]
  },
  {
   "cell_type": "code",
   "execution_count": 2,
   "metadata": {},
   "outputs": [],
   "source": [
    "from ImgFeatures import ImgFeatures\n",
    "import pp_constants as ppConst\n",
    "import pandas as ps\n",
    "import os"
   ]
  },
  {
   "cell_type": "markdown",
   "metadata": {},
   "source": [
    "### load custom class and calulate statistics for all .npy-.jpg image pairs in designated folders ###"
   ]
  },
  {
   "cell_type": "code",
   "execution_count": 3,
   "metadata": {
    "scrolled": true
   },
   "outputs": [
    {
     "name": "stdout",
     "output_type": "stream",
     "text": [
      "warning: unequal number of img (115639) and npy (381582) files \n",
      "completed initializing the ImgFeatures object\n"
     ]
    }
   ],
   "source": [
    "imgFeatures = ImgFeatures(ppConst.IMG_FOLDER,ppConst.NPY_FOLDER)\n",
    "#imgResults = imgFeatures.processAllImagesGreen(debug=True)\n",
    "#imgResults.to_csv(ppConst.GREEN_SCREEN_CSV,index=False)"
   ]
  },
  {
   "cell_type": "markdown",
   "metadata": {},
   "source": [
    "### save results ###"
   ]
  },
  {
   "cell_type": "code",
   "execution_count": null,
   "metadata": {},
   "outputs": [],
   "source": [
    "#imgResults.to_csv(ppConst.GREEN_SCREEN_CSV,index=False)"
   ]
  },
  {
   "cell_type": "code",
   "execution_count": 5,
   "metadata": {
    "scrolled": true
   },
   "outputs": [
    {
     "ename": "KeyboardInterrupt",
     "evalue": "",
     "output_type": "error",
     "traceback": [
      "\u001b[1;31m---------------------------------------------------------------------------\u001b[0m",
      "\u001b[1;31mKeyboardInterrupt\u001b[0m                         Traceback (most recent call last)",
      "\u001b[1;32m<ipython-input-5-acc8773ee838>\u001b[0m in \u001b[0;36m<module>\u001b[1;34m\u001b[0m\n\u001b[0;32m      1\u001b[0m \u001b[0mspatialFiles\u001b[0m \u001b[1;33m=\u001b[0m \u001b[0mimgFeatures\u001b[0m\u001b[1;33m.\u001b[0m\u001b[0mloadSpatialFiles\u001b[0m\u001b[1;33m(\u001b[0m\u001b[0mppConst\u001b[0m\u001b[1;33m.\u001b[0m\u001b[0mSPATIAL_FOLDER\u001b[0m\u001b[1;33m)\u001b[0m\u001b[1;33m\u001b[0m\u001b[1;33m\u001b[0m\u001b[0m\n\u001b[1;32m----> 2\u001b[1;33m \u001b[0mimgsToProces\u001b[0m \u001b[1;33m=\u001b[0m \u001b[0mimgFeatures\u001b[0m\u001b[1;33m.\u001b[0m\u001b[0mgetImgsToProcess\u001b[0m\u001b[1;33m(\u001b[0m\u001b[0mppConst\u001b[0m\u001b[1;33m.\u001b[0m\u001b[0mNPY_FOLDER\u001b[0m\u001b[1;33m,\u001b[0m\u001b[0malreadyProcessed\u001b[0m\u001b[1;33m=\u001b[0m\u001b[0mspatialFiles\u001b[0m\u001b[1;33m[\u001b[0m\u001b[1;34m'filename'\u001b[0m\u001b[1;33m]\u001b[0m\u001b[1;33m,\u001b[0m\u001b[0mdebug\u001b[0m\u001b[1;33m=\u001b[0m\u001b[1;32mTrue\u001b[0m\u001b[1;33m)\u001b[0m\u001b[1;33m\u001b[0m\u001b[1;33m\u001b[0m\u001b[0m\n\u001b[0m",
      "\u001b[1;32m~\\Desktop\\TempPlacePulse\\ImgFeatures.py\u001b[0m in \u001b[0;36mgetImgsToProcess\u001b[1;34m(self, imageFolder, alreadyProcessed, debug)\u001b[0m\n\u001b[0;32m    191\u001b[0m         \u001b[1;32mfor\u001b[0m \u001b[0mcandidate\u001b[0m \u001b[1;32min\u001b[0m \u001b[0mcandidateFiles\u001b[0m\u001b[1;33m:\u001b[0m\u001b[1;33m\u001b[0m\u001b[1;33m\u001b[0m\u001b[0m\n\u001b[0;32m    192\u001b[0m             \u001b[1;32mif\u001b[0m\u001b[1;33m(\u001b[0m\u001b[0mcandidate\u001b[0m\u001b[1;33m[\u001b[0m\u001b[1;33m-\u001b[0m\u001b[1;36m3\u001b[0m\u001b[1;33m:\u001b[0m\u001b[1;33m]\u001b[0m \u001b[1;33m==\u001b[0m \u001b[1;34m'npy'\u001b[0m \u001b[1;32mand\u001b[0m \u001b[0mcandidate\u001b[0m \u001b[1;32mnot\u001b[0m \u001b[1;32min\u001b[0m \u001b[0malreadyProcessed\u001b[0m\u001b[1;33m.\u001b[0m\u001b[0mvalues\u001b[0m\u001b[1;33m)\u001b[0m\u001b[1;33m:\u001b[0m\u001b[1;33m\u001b[0m\u001b[1;33m\u001b[0m\u001b[0m\n\u001b[1;32m--> 193\u001b[1;33m                 \u001b[0mfilesToProcess\u001b[0m\u001b[1;33m.\u001b[0m\u001b[0mappend\u001b[0m\u001b[1;33m(\u001b[0m\u001b[0mcandidate\u001b[0m\u001b[1;33m)\u001b[0m\u001b[1;33m\u001b[0m\u001b[1;33m\u001b[0m\u001b[0m\n\u001b[0m\u001b[0;32m    194\u001b[0m             \u001b[0mindex\u001b[0m\u001b[1;33m+=\u001b[0m\u001b[1;36m1\u001b[0m\u001b[1;33m\u001b[0m\u001b[1;33m\u001b[0m\u001b[0m\n\u001b[0;32m    195\u001b[0m             \u001b[1;32mif\u001b[0m\u001b[1;33m(\u001b[0m\u001b[0mindex\u001b[0m\u001b[1;33m%\u001b[0m\u001b[1;36m5000\u001b[0m\u001b[1;33m==\u001b[0m\u001b[1;36m0\u001b[0m\u001b[1;33m)\u001b[0m\u001b[1;33m:\u001b[0m\u001b[1;33m\u001b[0m\u001b[1;33m\u001b[0m\u001b[0m\n",
      "\u001b[1;31mKeyboardInterrupt\u001b[0m: "
     ]
    }
   ],
   "source": [
    "#spatialFiles = imgFeatures.loadSpatialFiles(ppConst.SPATIAL_FOLDER)\n",
    "#imgsToProces = imgFeatures.getImgsToProcess(ppConst.NPY_FOLDER,alreadyProcessed=spatialFiles['filename'],debug=True)"
   ]
  },
  {
   "cell_type": "code",
   "execution_count": 6,
   "metadata": {},
   "outputs": [],
   "source": [
    "imgsToProces = ps.read_csv(\"C:/users/larkinan/desktop/temp.csv\")['0']"
   ]
  },
  {
   "cell_type": "code",
   "execution_count": 7,
   "metadata": {
    "scrolled": true
   },
   "outputs": [
    {
     "name": "stdout",
     "output_type": "stream",
     "text": [
      "spatial_clust_0_10000.csv already exists\n",
      "spatial_clust_10000_20000.csv already exists\n",
      "spatial_clust_20000_30000.csv already exists\n",
      "spatial_clust_30000_40000.csv already exists\n",
      "spatial_clust_40000_50000.csv already exists\n",
      "spatial_clust_50000_60000.csv already exists\n",
      "spatial_clust_60000_70000.csv already exists\n",
      "spatial_clust_70000_80000.csv already exists\n",
      "spatial_clust_80000_90000.csv already exists\n",
      "spatial_clust_90000_100000.csv already exists\n",
      "spatial_clust_100000_110000.csv already exists\n",
      "spatial_clust_110000_120000.csv already exists\n",
      "spatial_clust_120000_130000.csv already exists\n",
      "spatial_clust_130000_140000.csv already exists\n",
      "spatial_clust_140000_150000.csv already exists\n"
     ]
    },
    {
     "name": "stderr",
     "output_type": "stream",
     "text": [
      "C:\\Users\\larkinan\\Desktop\\TempPlacePulse\\ImgFeatures.py:130: RuntimeWarning: invalid value encountered in double_scalars\n",
      "  return([np.sum(neighbImg)/np.sum(imgArr)])\n"
     ]
    },
    {
     "name": "stdout",
     "output_type": "stream",
     "text": [
      "derived spatial statistics for 100 images\n",
      "derived spatial statistics for 200 images\n",
      "derived spatial statistics for 300 images\n",
      "derived spatial statistics for 400 images\n",
      "derived spatial statistics for 500 images\n",
      "derived spatial statistics for 600 images\n",
      "derived spatial statistics for 700 images\n",
      "derived spatial statistics for 800 images\n",
      "derived spatial statistics for 900 images\n",
      "derived spatial statistics for 1000 images\n",
      "derived spatial statistics for 1100 images\n",
      "derived spatial statistics for 1200 images\n",
      "derived spatial statistics for 1300 images\n",
      "derived spatial statistics for 1400 images\n",
      "derived spatial statistics for 1500 images\n",
      "derived spatial statistics for 1600 images\n",
      "derived spatial statistics for 1700 images\n",
      "derived spatial statistics for 1800 images\n",
      "derived spatial statistics for 1900 images\n",
      "derived spatial statistics for 2000 images\n",
      "derived spatial statistics for 2100 images\n",
      "derived spatial statistics for 2200 images\n",
      "derived spatial statistics for 2300 images\n",
      "derived spatial statistics for 2400 images\n",
      "derived spatial statistics for 2500 images\n",
      "derived spatial statistics for 2600 images\n",
      "derived spatial statistics for 2700 images\n",
      "derived spatial statistics for 2800 images\n",
      "derived spatial statistics for 2900 images\n",
      "derived spatial statistics for 3000 images\n",
      "derived spatial statistics for 3100 images\n",
      "derived spatial statistics for 3200 images\n",
      "derived spatial statistics for 3300 images\n",
      "derived spatial statistics for 3400 images\n",
      "derived spatial statistics for 3500 images\n",
      "derived spatial statistics for 3600 images\n",
      "derived spatial statistics for 3700 images\n",
      "derived spatial statistics for 3800 images\n",
      "derived spatial statistics for 3900 images\n",
      "derived spatial statistics for 4000 images\n",
      "derived spatial statistics for 4100 images\n",
      "derived spatial statistics for 4200 images\n",
      "derived spatial statistics for 4300 images\n",
      "derived spatial statistics for 4400 images\n",
      "derived spatial statistics for 4500 images\n",
      "derived spatial statistics for 4600 images\n",
      "derived spatial statistics for 4700 images\n",
      "derived spatial statistics for 4800 images\n",
      "derived spatial statistics for 4900 images\n",
      "derived spatial statistics for 5000 images\n",
      "derived spatial statistics for 5100 images\n",
      "derived spatial statistics for 5200 images\n",
      "derived spatial statistics for 5300 images\n",
      "derived spatial statistics for 5400 images\n",
      "derived spatial statistics for 5500 images\n",
      "derived spatial statistics for 5600 images\n",
      "derived spatial statistics for 5700 images\n",
      "derived spatial statistics for 5800 images\n",
      "derived spatial statistics for 5900 images\n",
      "derived spatial statistics for 6000 images\n",
      "derived spatial statistics for 6100 images\n",
      "derived spatial statistics for 6200 images\n",
      "derived spatial statistics for 6300 images\n",
      "derived spatial statistics for 6400 images\n",
      "derived spatial statistics for 6500 images\n",
      "derived spatial statistics for 6600 images\n",
      "derived spatial statistics for 6700 images\n",
      "derived spatial statistics for 6800 images\n",
      "derived spatial statistics for 6900 images\n",
      "derived spatial statistics for 7000 images\n",
      "derived spatial statistics for 7100 images\n",
      "derived spatial statistics for 7200 images\n",
      "derived spatial statistics for 7300 images\n",
      "derived spatial statistics for 7400 images\n",
      "derived spatial statistics for 7500 images\n",
      "derived spatial statistics for 7600 images\n",
      "derived spatial statistics for 7700 images\n",
      "derived spatial statistics for 7800 images\n",
      "derived spatial statistics for 7900 images\n",
      "derived spatial statistics for 8000 images\n",
      "derived spatial statistics for 8100 images\n",
      "derived spatial statistics for 8200 images\n",
      "derived spatial statistics for 8300 images\n",
      "derived spatial statistics for 8400 images\n",
      "derived spatial statistics for 8500 images\n",
      "derived spatial statistics for 8600 images\n",
      "derived spatial statistics for 8700 images\n",
      "derived spatial statistics for 8800 images\n",
      "derived spatial statistics for 8900 images\n",
      "derived spatial statistics for 9000 images\n",
      "derived spatial statistics for 9100 images\n",
      "derived spatial statistics for 9200 images\n",
      "derived spatial statistics for 9300 images\n",
      "derived spatial statistics for 9400 images\n",
      "derived spatial statistics for 9500 images\n",
      "derived spatial statistics for 9600 images\n",
      "derived spatial statistics for 9700 images\n",
      "derived spatial statistics for 9800 images\n",
      "derived spatial statistics for 9900 images\n",
      "derived spatial statistics for 10000 images\n",
      "derived spatial statistics for 100 images\n",
      "derived spatial statistics for 200 images\n",
      "derived spatial statistics for 300 images\n",
      "derived spatial statistics for 400 images\n",
      "derived spatial statistics for 500 images\n",
      "derived spatial statistics for 600 images\n",
      "derived spatial statistics for 700 images\n",
      "derived spatial statistics for 800 images\n",
      "derived spatial statistics for 900 images\n",
      "derived spatial statistics for 1000 images\n",
      "derived spatial statistics for 1100 images\n",
      "derived spatial statistics for 1200 images\n",
      "derived spatial statistics for 1300 images\n",
      "derived spatial statistics for 1400 images\n",
      "derived spatial statistics for 1500 images\n"
     ]
    }
   ],
   "source": [
    "#ps.DataFrame(imgsToProces).to_csv(\"C:/users/larkinan/desktop/temp.csv\",index=False)\n",
    "numSamples = 10000\n",
    "numBatches = int((len(imgsToProces)/numSamples))+1\n",
    "for batchNum in range(numBatches):\n",
    "    tempBatch = imgsToProces[(numSamples*batchNum):(numSamples*(batchNum+1))]\n",
    "    outputFilename = \"spatial_clust_\" + str(numSamples*batchNum) + \"_\" + str(numSamples*(batchNum+1)) + \".csv\"\n",
    "    if not os.path.exists(\"C:/users/larkinan/Desktop/\" + outputFilename):\n",
    "        results = imgFeatures.processAllImagesSpatial(ppConst.NPY_FOLDER,tempBatch,debug=True)\n",
    "        results.to_csv(\"C:/users/larkinan/Desktop/\" +outputFilename)\n",
    "    else:\n",
    "        print(\"%s already exists\" %(outputFilename))"
   ]
  },
  {
   "cell_type": "code",
   "execution_count": 13,
   "metadata": {
    "scrolled": true
   },
   "outputs": [
    {
     "name": "stdout",
     "output_type": "stream",
     "text": [
      "Index(['0'], dtype='object')\n"
     ]
    }
   ],
   "source": [
    "print(imgsToProces.keys())"
   ]
  }
 ],
 "metadata": {
  "kernelspec": {
   "display_name": "Python 3",
   "language": "python",
   "name": "python3"
  },
  "language_info": {
   "codemirror_mode": {
    "name": "ipython",
    "version": 3
   },
   "file_extension": ".py",
   "mimetype": "text/x-python",
   "name": "python",
   "nbconvert_exporter": "python",
   "pygments_lexer": "ipython3",
   "version": "3.7.6"
  }
 },
 "nbformat": 4,
 "nbformat_minor": 4
}
